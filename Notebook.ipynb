{
 "cells": [
  {
   "cell_type": "markdown",
   "id": "a70e9333",
   "metadata": {},
   "source": [
    "# Boat Sales Dataset"
   ]
  },
  {
   "cell_type": "code",
   "execution_count": 1,
   "id": "1cdac17c",
   "metadata": {},
   "outputs": [],
   "source": [
    "import pandas as pd\n",
    "import matplotlib.pyplot as plt\n",
    "%matplotlib inline\n",
    "import seaborn as sns\n",
    "import numpy as np"
   ]
  },
  {
   "cell_type": "code",
   "execution_count": 2,
   "id": "9a55335b",
   "metadata": {},
   "outputs": [],
   "source": [
    "df = pd.read_csv('boat_data.csv')"
   ]
  },
  {
   "cell_type": "code",
   "execution_count": 3,
   "id": "73602c79",
   "metadata": {},
   "outputs": [
    {
     "data": {
      "text/html": [
       "<div>\n",
       "<style scoped>\n",
       "    .dataframe tbody tr th:only-of-type {\n",
       "        vertical-align: middle;\n",
       "    }\n",
       "\n",
       "    .dataframe tbody tr th {\n",
       "        vertical-align: top;\n",
       "    }\n",
       "\n",
       "    .dataframe thead th {\n",
       "        text-align: right;\n",
       "    }\n",
       "</style>\n",
       "<table border=\"1\" class=\"dataframe\">\n",
       "  <thead>\n",
       "    <tr style=\"text-align: right;\">\n",
       "      <th></th>\n",
       "      <th>Price</th>\n",
       "      <th>Boat Type</th>\n",
       "      <th>Manufacturer</th>\n",
       "      <th>Type</th>\n",
       "      <th>Year Built</th>\n",
       "      <th>Length</th>\n",
       "      <th>Width</th>\n",
       "      <th>Material</th>\n",
       "      <th>Location</th>\n",
       "      <th>Number of views last 7 days</th>\n",
       "    </tr>\n",
       "  </thead>\n",
       "  <tbody>\n",
       "    <tr>\n",
       "      <th>0</th>\n",
       "      <td>CHF 3337</td>\n",
       "      <td>Motor Yacht</td>\n",
       "      <td>Rigiflex power boats</td>\n",
       "      <td>new boat from stock</td>\n",
       "      <td>2017</td>\n",
       "      <td>4.00</td>\n",
       "      <td>1.90</td>\n",
       "      <td>NaN</td>\n",
       "      <td>Switzerland</td>\n",
       "      <td>226</td>\n",
       "    </tr>\n",
       "    <tr>\n",
       "      <th>1</th>\n",
       "      <td>EUR 3490</td>\n",
       "      <td>Center console boat</td>\n",
       "      <td>Terhi power boats</td>\n",
       "      <td>new boat from stock</td>\n",
       "      <td>2020</td>\n",
       "      <td>4.00</td>\n",
       "      <td>1.50</td>\n",
       "      <td>Thermoplastic</td>\n",
       "      <td>Germany</td>\n",
       "      <td>75</td>\n",
       "    </tr>\n",
       "    <tr>\n",
       "      <th>2</th>\n",
       "      <td>CHF 3770</td>\n",
       "      <td>Sport Boat</td>\n",
       "      <td>Marine power boats</td>\n",
       "      <td>new boat from stock</td>\n",
       "      <td>0</td>\n",
       "      <td>3.69</td>\n",
       "      <td>1.42</td>\n",
       "      <td>Aluminium</td>\n",
       "      <td>Switzerland</td>\n",
       "      <td>124</td>\n",
       "    </tr>\n",
       "    <tr>\n",
       "      <th>3</th>\n",
       "      <td>DKK 25900</td>\n",
       "      <td>Sport Boat</td>\n",
       "      <td>Pioner power boats</td>\n",
       "      <td>new boat from stock</td>\n",
       "      <td>2020</td>\n",
       "      <td>3.00</td>\n",
       "      <td>1.00</td>\n",
       "      <td>NaN</td>\n",
       "      <td>Denmark</td>\n",
       "      <td>64</td>\n",
       "    </tr>\n",
       "    <tr>\n",
       "      <th>4</th>\n",
       "      <td>EUR 3399</td>\n",
       "      <td>Fishing Boat</td>\n",
       "      <td>Linder power boats</td>\n",
       "      <td>new boat from stock</td>\n",
       "      <td>2019</td>\n",
       "      <td>3.55</td>\n",
       "      <td>1.46</td>\n",
       "      <td>Aluminium</td>\n",
       "      <td>Germany</td>\n",
       "      <td>58</td>\n",
       "    </tr>\n",
       "  </tbody>\n",
       "</table>\n",
       "</div>"
      ],
      "text/plain": [
       "       Price            Boat Type          Manufacturer                 Type  \\\n",
       "0   CHF 3337          Motor Yacht  Rigiflex power boats  new boat from stock   \n",
       "1   EUR 3490  Center console boat     Terhi power boats  new boat from stock   \n",
       "2   CHF 3770           Sport Boat    Marine power boats  new boat from stock   \n",
       "3  DKK 25900           Sport Boat    Pioner power boats  new boat from stock   \n",
       "4   EUR 3399         Fishing Boat    Linder power boats  new boat from stock   \n",
       "\n",
       "   Year Built  Length  Width       Material     Location  \\\n",
       "0        2017    4.00   1.90            NaN  Switzerland   \n",
       "1        2020    4.00   1.50  Thermoplastic      Germany   \n",
       "2           0    3.69   1.42      Aluminium  Switzerland   \n",
       "3        2020    3.00   1.00            NaN      Denmark   \n",
       "4        2019    3.55   1.46      Aluminium      Germany   \n",
       "\n",
       "   Number of views last 7 days  \n",
       "0                          226  \n",
       "1                           75  \n",
       "2                          124  \n",
       "3                           64  \n",
       "4                           58  "
      ]
     },
     "execution_count": 3,
     "metadata": {},
     "output_type": "execute_result"
    }
   ],
   "source": [
    "df.head()"
   ]
  },
  {
   "cell_type": "code",
   "execution_count": 4,
   "id": "40a2a123",
   "metadata": {},
   "outputs": [],
   "source": [
    "df['Unit'] = df['Price'].str.slice(0,3)\n",
    "df['Price'] = df['Price'].str.slice(4,8)"
   ]
  },
  {
   "cell_type": "code",
   "execution_count": 5,
   "id": "e40661e2",
   "metadata": {},
   "outputs": [
    {
     "data": {
      "text/html": [
       "<div>\n",
       "<style scoped>\n",
       "    .dataframe tbody tr th:only-of-type {\n",
       "        vertical-align: middle;\n",
       "    }\n",
       "\n",
       "    .dataframe tbody tr th {\n",
       "        vertical-align: top;\n",
       "    }\n",
       "\n",
       "    .dataframe thead th {\n",
       "        text-align: right;\n",
       "    }\n",
       "</style>\n",
       "<table border=\"1\" class=\"dataframe\">\n",
       "  <thead>\n",
       "    <tr style=\"text-align: right;\">\n",
       "      <th></th>\n",
       "      <th>Price</th>\n",
       "      <th>Boat Type</th>\n",
       "      <th>Manufacturer</th>\n",
       "      <th>Type</th>\n",
       "      <th>Year Built</th>\n",
       "      <th>Length</th>\n",
       "      <th>Width</th>\n",
       "      <th>Material</th>\n",
       "      <th>Location</th>\n",
       "      <th>Number of views last 7 days</th>\n",
       "      <th>Unit</th>\n",
       "    </tr>\n",
       "  </thead>\n",
       "  <tbody>\n",
       "    <tr>\n",
       "      <th>0</th>\n",
       "      <td>3337</td>\n",
       "      <td>Motor Yacht</td>\n",
       "      <td>Rigiflex power boats</td>\n",
       "      <td>new boat from stock</td>\n",
       "      <td>2017</td>\n",
       "      <td>4.00</td>\n",
       "      <td>1.90</td>\n",
       "      <td>NaN</td>\n",
       "      <td>Switzerland</td>\n",
       "      <td>226</td>\n",
       "      <td>CHF</td>\n",
       "    </tr>\n",
       "    <tr>\n",
       "      <th>1</th>\n",
       "      <td>3490</td>\n",
       "      <td>Center console boat</td>\n",
       "      <td>Terhi power boats</td>\n",
       "      <td>new boat from stock</td>\n",
       "      <td>2020</td>\n",
       "      <td>4.00</td>\n",
       "      <td>1.50</td>\n",
       "      <td>Thermoplastic</td>\n",
       "      <td>Germany</td>\n",
       "      <td>75</td>\n",
       "      <td>EUR</td>\n",
       "    </tr>\n",
       "    <tr>\n",
       "      <th>2</th>\n",
       "      <td>3770</td>\n",
       "      <td>Sport Boat</td>\n",
       "      <td>Marine power boats</td>\n",
       "      <td>new boat from stock</td>\n",
       "      <td>0</td>\n",
       "      <td>3.69</td>\n",
       "      <td>1.42</td>\n",
       "      <td>Aluminium</td>\n",
       "      <td>Switzerland</td>\n",
       "      <td>124</td>\n",
       "      <td>CHF</td>\n",
       "    </tr>\n",
       "    <tr>\n",
       "      <th>3</th>\n",
       "      <td>2590</td>\n",
       "      <td>Sport Boat</td>\n",
       "      <td>Pioner power boats</td>\n",
       "      <td>new boat from stock</td>\n",
       "      <td>2020</td>\n",
       "      <td>3.00</td>\n",
       "      <td>1.00</td>\n",
       "      <td>NaN</td>\n",
       "      <td>Denmark</td>\n",
       "      <td>64</td>\n",
       "      <td>DKK</td>\n",
       "    </tr>\n",
       "    <tr>\n",
       "      <th>4</th>\n",
       "      <td>3399</td>\n",
       "      <td>Fishing Boat</td>\n",
       "      <td>Linder power boats</td>\n",
       "      <td>new boat from stock</td>\n",
       "      <td>2019</td>\n",
       "      <td>3.55</td>\n",
       "      <td>1.46</td>\n",
       "      <td>Aluminium</td>\n",
       "      <td>Germany</td>\n",
       "      <td>58</td>\n",
       "      <td>EUR</td>\n",
       "    </tr>\n",
       "  </tbody>\n",
       "</table>\n",
       "</div>"
      ],
      "text/plain": [
       "  Price            Boat Type          Manufacturer                 Type  \\\n",
       "0  3337          Motor Yacht  Rigiflex power boats  new boat from stock   \n",
       "1  3490  Center console boat     Terhi power boats  new boat from stock   \n",
       "2  3770           Sport Boat    Marine power boats  new boat from stock   \n",
       "3  2590           Sport Boat    Pioner power boats  new boat from stock   \n",
       "4  3399         Fishing Boat    Linder power boats  new boat from stock   \n",
       "\n",
       "   Year Built  Length  Width       Material     Location  \\\n",
       "0        2017    4.00   1.90            NaN  Switzerland   \n",
       "1        2020    4.00   1.50  Thermoplastic      Germany   \n",
       "2           0    3.69   1.42      Aluminium  Switzerland   \n",
       "3        2020    3.00   1.00            NaN      Denmark   \n",
       "4        2019    3.55   1.46      Aluminium      Germany   \n",
       "\n",
       "   Number of views last 7 days Unit  \n",
       "0                          226  CHF  \n",
       "1                           75  EUR  \n",
       "2                          124  CHF  \n",
       "3                           64  DKK  \n",
       "4                           58  EUR  "
      ]
     },
     "execution_count": 5,
     "metadata": {},
     "output_type": "execute_result"
    }
   ],
   "source": [
    "df.head()"
   ]
  },
  {
   "cell_type": "code",
   "execution_count": 6,
   "id": "b63cc0f5",
   "metadata": {},
   "outputs": [
    {
     "name": "stdout",
     "output_type": "stream",
     "text": [
      "<class 'pandas.core.frame.DataFrame'>\n",
      "RangeIndex: 9888 entries, 0 to 9887\n",
      "Data columns (total 11 columns):\n",
      " #   Column                       Non-Null Count  Dtype  \n",
      "---  ------                       --------------  -----  \n",
      " 0   Price                        9888 non-null   object \n",
      " 1   Boat Type                    9888 non-null   object \n",
      " 2   Manufacturer                 8550 non-null   object \n",
      " 3   Type                         9882 non-null   object \n",
      " 4   Year Built                   9888 non-null   int64  \n",
      " 5   Length                       9879 non-null   float64\n",
      " 6   Width                        9832 non-null   float64\n",
      " 7   Material                     8139 non-null   object \n",
      " 8   Location                     9852 non-null   object \n",
      " 9   Number of views last 7 days  9888 non-null   int64  \n",
      " 10  Unit                         9888 non-null   object \n",
      "dtypes: float64(2), int64(2), object(7)\n",
      "memory usage: 849.9+ KB\n"
     ]
    }
   ],
   "source": [
    "df.info()"
   ]
  },
  {
   "cell_type": "code",
   "execution_count": 7,
   "id": "dfb36f4c",
   "metadata": {
    "scrolled": true
   },
   "outputs": [
    {
     "data": {
      "text/html": [
       "<div>\n",
       "<style scoped>\n",
       "    .dataframe tbody tr th:only-of-type {\n",
       "        vertical-align: middle;\n",
       "    }\n",
       "\n",
       "    .dataframe tbody tr th {\n",
       "        vertical-align: top;\n",
       "    }\n",
       "\n",
       "    .dataframe thead th {\n",
       "        text-align: right;\n",
       "    }\n",
       "</style>\n",
       "<table border=\"1\" class=\"dataframe\">\n",
       "  <thead>\n",
       "    <tr style=\"text-align: right;\">\n",
       "      <th></th>\n",
       "      <th>Year Built</th>\n",
       "      <th>Length</th>\n",
       "      <th>Width</th>\n",
       "      <th>Number of views last 7 days</th>\n",
       "    </tr>\n",
       "  </thead>\n",
       "  <tbody>\n",
       "    <tr>\n",
       "      <th>count</th>\n",
       "      <td>9888.000000</td>\n",
       "      <td>9879.000000</td>\n",
       "      <td>9832.000000</td>\n",
       "      <td>9888.000000</td>\n",
       "    </tr>\n",
       "    <tr>\n",
       "      <th>mean</th>\n",
       "      <td>1893.192860</td>\n",
       "      <td>11.570017</td>\n",
       "      <td>3.520124</td>\n",
       "      <td>149.160801</td>\n",
       "    </tr>\n",
       "    <tr>\n",
       "      <th>std</th>\n",
       "      <td>460.201582</td>\n",
       "      <td>6.002820</td>\n",
       "      <td>1.220534</td>\n",
       "      <td>151.819752</td>\n",
       "    </tr>\n",
       "    <tr>\n",
       "      <th>min</th>\n",
       "      <td>0.000000</td>\n",
       "      <td>1.040000</td>\n",
       "      <td>0.010000</td>\n",
       "      <td>13.000000</td>\n",
       "    </tr>\n",
       "    <tr>\n",
       "      <th>25%</th>\n",
       "      <td>1996.000000</td>\n",
       "      <td>7.470000</td>\n",
       "      <td>2.540000</td>\n",
       "      <td>70.000000</td>\n",
       "    </tr>\n",
       "    <tr>\n",
       "      <th>50%</th>\n",
       "      <td>2007.000000</td>\n",
       "      <td>10.280000</td>\n",
       "      <td>3.330000</td>\n",
       "      <td>108.000000</td>\n",
       "    </tr>\n",
       "    <tr>\n",
       "      <th>75%</th>\n",
       "      <td>2017.000000</td>\n",
       "      <td>13.930000</td>\n",
       "      <td>4.250000</td>\n",
       "      <td>172.000000</td>\n",
       "    </tr>\n",
       "    <tr>\n",
       "      <th>max</th>\n",
       "      <td>2021.000000</td>\n",
       "      <td>100.000000</td>\n",
       "      <td>25.160000</td>\n",
       "      <td>3263.000000</td>\n",
       "    </tr>\n",
       "  </tbody>\n",
       "</table>\n",
       "</div>"
      ],
      "text/plain": [
       "        Year Built       Length        Width  Number of views last 7 days\n",
       "count  9888.000000  9879.000000  9832.000000                  9888.000000\n",
       "mean   1893.192860    11.570017     3.520124                   149.160801\n",
       "std     460.201582     6.002820     1.220534                   151.819752\n",
       "min       0.000000     1.040000     0.010000                    13.000000\n",
       "25%    1996.000000     7.470000     2.540000                    70.000000\n",
       "50%    2007.000000    10.280000     3.330000                   108.000000\n",
       "75%    2017.000000    13.930000     4.250000                   172.000000\n",
       "max    2021.000000   100.000000    25.160000                  3263.000000"
      ]
     },
     "execution_count": 7,
     "metadata": {},
     "output_type": "execute_result"
    }
   ],
   "source": [
    "df.describe()"
   ]
  },
  {
   "cell_type": "code",
   "execution_count": 8,
   "id": "af86570b",
   "metadata": {},
   "outputs": [
    {
     "data": {
      "text/plain": [
       "Price                             0\n",
       "Boat Type                         0\n",
       "Manufacturer                   1338\n",
       "Type                              6\n",
       "Year Built                        0\n",
       "Length                            9\n",
       "Width                            56\n",
       "Material                       1749\n",
       "Location                         36\n",
       "Number of views last 7 days       0\n",
       "Unit                              0\n",
       "dtype: int64"
      ]
     },
     "execution_count": 8,
     "metadata": {},
     "output_type": "execute_result"
    }
   ],
   "source": [
    "df.isna().sum()"
   ]
  },
  {
   "cell_type": "code",
   "execution_count": 9,
   "id": "62461101",
   "metadata": {},
   "outputs": [],
   "source": [
    "df.replace(0,np.nan, inplace=True)"
   ]
  },
  {
   "cell_type": "code",
   "execution_count": 10,
   "id": "8a7bea94",
   "metadata": {},
   "outputs": [
    {
     "data": {
      "text/plain": [
       "array(['CHF', 'EUR', 'DKK', 'Â£ '], dtype=object)"
      ]
     },
     "execution_count": 10,
     "metadata": {},
     "output_type": "execute_result"
    }
   ],
   "source": [
    "df['Unit'].unique()"
   ]
  },
  {
   "cell_type": "code",
   "execution_count": 11,
   "id": "1ef3134e",
   "metadata": {},
   "outputs": [],
   "source": [
    "df['Unit'] = df['Unit'].replace('Â£ ', '£')"
   ]
  },
  {
   "cell_type": "code",
   "execution_count": 12,
   "id": "19b46d08",
   "metadata": {},
   "outputs": [
    {
     "data": {
      "text/html": [
       "<div>\n",
       "<style scoped>\n",
       "    .dataframe tbody tr th:only-of-type {\n",
       "        vertical-align: middle;\n",
       "    }\n",
       "\n",
       "    .dataframe tbody tr th {\n",
       "        vertical-align: top;\n",
       "    }\n",
       "\n",
       "    .dataframe thead th {\n",
       "        text-align: right;\n",
       "    }\n",
       "</style>\n",
       "<table border=\"1\" class=\"dataframe\">\n",
       "  <thead>\n",
       "    <tr style=\"text-align: right;\">\n",
       "      <th></th>\n",
       "      <th>Price</th>\n",
       "      <th>Boat Type</th>\n",
       "      <th>Manufacturer</th>\n",
       "      <th>Type</th>\n",
       "      <th>Year Built</th>\n",
       "      <th>Length</th>\n",
       "      <th>Width</th>\n",
       "      <th>Material</th>\n",
       "      <th>Location</th>\n",
       "      <th>Number of views last 7 days</th>\n",
       "      <th>Unit</th>\n",
       "    </tr>\n",
       "  </thead>\n",
       "  <tbody>\n",
       "    <tr>\n",
       "      <th>41</th>\n",
       "      <td>170</td>\n",
       "      <td>Working Boat</td>\n",
       "      <td>Buster power boats</td>\n",
       "      <td>new boat from stock</td>\n",
       "      <td>2019.0</td>\n",
       "      <td>3.88</td>\n",
       "      <td>1.49</td>\n",
       "      <td>NaN</td>\n",
       "      <td>United</td>\n",
       "      <td>54</td>\n",
       "      <td>£</td>\n",
       "    </tr>\n",
       "    <tr>\n",
       "      <th>72</th>\n",
       "      <td>000</td>\n",
       "      <td>Cabin Boat,Classic</td>\n",
       "      <td>NaN</td>\n",
       "      <td>Used boat,Unleaded</td>\n",
       "      <td>1941.0</td>\n",
       "      <td>8.23</td>\n",
       "      <td>2.65</td>\n",
       "      <td>Wood</td>\n",
       "      <td>United</td>\n",
       "      <td>154</td>\n",
       "      <td>£</td>\n",
       "    </tr>\n",
       "    <tr>\n",
       "      <th>235</th>\n",
       "      <td>3995</td>\n",
       "      <td>Cabin Boat</td>\n",
       "      <td>Atlanta power boats</td>\n",
       "      <td>Used boat</td>\n",
       "      <td>NaN</td>\n",
       "      <td>7.37</td>\n",
       "      <td>1.85</td>\n",
       "      <td>NaN</td>\n",
       "      <td>United</td>\n",
       "      <td>140</td>\n",
       "      <td>£</td>\n",
       "    </tr>\n",
       "    <tr>\n",
       "      <th>237</th>\n",
       "      <td>4950</td>\n",
       "      <td>Center console boat</td>\n",
       "      <td>Buster power boats</td>\n",
       "      <td>new boat from stock</td>\n",
       "      <td>2018.0</td>\n",
       "      <td>4.57</td>\n",
       "      <td>1.83</td>\n",
       "      <td>NaN</td>\n",
       "      <td>United</td>\n",
       "      <td>53</td>\n",
       "      <td>£</td>\n",
       "    </tr>\n",
       "    <tr>\n",
       "      <th>557</th>\n",
       "      <td>7250</td>\n",
       "      <td>Pilothouse</td>\n",
       "      <td>Ocqueteau power boats</td>\n",
       "      <td>new boat from stock</td>\n",
       "      <td>2018.0</td>\n",
       "      <td>5.89</td>\n",
       "      <td>2.44</td>\n",
       "      <td>NaN</td>\n",
       "      <td>United</td>\n",
       "      <td>66</td>\n",
       "      <td>£</td>\n",
       "    </tr>\n",
       "    <tr>\n",
       "      <th>...</th>\n",
       "      <td>...</td>\n",
       "      <td>...</td>\n",
       "      <td>...</td>\n",
       "      <td>...</td>\n",
       "      <td>...</td>\n",
       "      <td>...</td>\n",
       "      <td>...</td>\n",
       "      <td>...</td>\n",
       "      <td>...</td>\n",
       "      <td>...</td>\n",
       "      <td>...</td>\n",
       "    </tr>\n",
       "    <tr>\n",
       "      <th>9424</th>\n",
       "      <td>5500</td>\n",
       "      <td>Pilothouse</td>\n",
       "      <td>NaN</td>\n",
       "      <td>Used boat,Diesel</td>\n",
       "      <td>1976.0</td>\n",
       "      <td>7.21</td>\n",
       "      <td>2.13</td>\n",
       "      <td>NaN</td>\n",
       "      <td>United</td>\n",
       "      <td>62</td>\n",
       "      <td>£</td>\n",
       "    </tr>\n",
       "    <tr>\n",
       "      <th>9487</th>\n",
       "      <td>4500</td>\n",
       "      <td>Cabin Boat</td>\n",
       "      <td>Hardy Marine power boats</td>\n",
       "      <td>Used boat</td>\n",
       "      <td>1988.0</td>\n",
       "      <td>8.00</td>\n",
       "      <td>2.74</td>\n",
       "      <td>NaN</td>\n",
       "      <td>United</td>\n",
       "      <td>75</td>\n",
       "      <td>£</td>\n",
       "    </tr>\n",
       "    <tr>\n",
       "      <th>9603</th>\n",
       "      <td>1995</td>\n",
       "      <td>Sport Boat</td>\n",
       "      <td>Sea Ray power boats</td>\n",
       "      <td>Used boat</td>\n",
       "      <td>1989.0</td>\n",
       "      <td>6.71</td>\n",
       "      <td>2.59</td>\n",
       "      <td>PVC</td>\n",
       "      <td>United</td>\n",
       "      <td>205</td>\n",
       "      <td>£</td>\n",
       "    </tr>\n",
       "    <tr>\n",
       "      <th>9604</th>\n",
       "      <td>1950</td>\n",
       "      <td>Cabin Boat</td>\n",
       "      <td>Bayliner power boats</td>\n",
       "      <td>Used boat</td>\n",
       "      <td>1986.0</td>\n",
       "      <td>7.92</td>\n",
       "      <td>0.74</td>\n",
       "      <td>NaN</td>\n",
       "      <td>United</td>\n",
       "      <td>203</td>\n",
       "      <td>£</td>\n",
       "    </tr>\n",
       "    <tr>\n",
       "      <th>9688</th>\n",
       "      <td>950</td>\n",
       "      <td>Launch</td>\n",
       "      <td>Ranger power boats</td>\n",
       "      <td>Used boat</td>\n",
       "      <td>2015.0</td>\n",
       "      <td>4.57</td>\n",
       "      <td>1.22</td>\n",
       "      <td>NaN</td>\n",
       "      <td>United</td>\n",
       "      <td>82</td>\n",
       "      <td>£</td>\n",
       "    </tr>\n",
       "  </tbody>\n",
       "</table>\n",
       "<p>298 rows × 11 columns</p>\n",
       "</div>"
      ],
      "text/plain": [
       "     Price            Boat Type              Manufacturer  \\\n",
       "41     170         Working Boat        Buster power boats   \n",
       "72     000   Cabin Boat,Classic                       NaN   \n",
       "235   3995           Cabin Boat       Atlanta power boats   \n",
       "237   4950  Center console boat        Buster power boats   \n",
       "557   7250           Pilothouse     Ocqueteau power boats   \n",
       "...    ...                  ...                       ...   \n",
       "9424  5500           Pilothouse                       NaN   \n",
       "9487  4500           Cabin Boat  Hardy Marine power boats   \n",
       "9603  1995           Sport Boat       Sea Ray power boats   \n",
       "9604  1950           Cabin Boat      Bayliner power boats   \n",
       "9688   950               Launch        Ranger power boats   \n",
       "\n",
       "                     Type  Year Built  Length  Width Material Location  \\\n",
       "41    new boat from stock      2019.0    3.88   1.49      NaN   United   \n",
       "72     Used boat,Unleaded      1941.0    8.23   2.65     Wood   United   \n",
       "235             Used boat         NaN    7.37   1.85      NaN   United   \n",
       "237   new boat from stock      2018.0    4.57   1.83      NaN   United   \n",
       "557   new boat from stock      2018.0    5.89   2.44      NaN   United   \n",
       "...                   ...         ...     ...    ...      ...      ...   \n",
       "9424     Used boat,Diesel      1976.0    7.21   2.13      NaN   United   \n",
       "9487            Used boat      1988.0    8.00   2.74      NaN   United   \n",
       "9603            Used boat      1989.0    6.71   2.59      PVC   United   \n",
       "9604            Used boat      1986.0    7.92   0.74      NaN   United   \n",
       "9688            Used boat      2015.0    4.57   1.22      NaN   United   \n",
       "\n",
       "      Number of views last 7 days Unit  \n",
       "41                             54    £  \n",
       "72                            154    £  \n",
       "235                           140    £  \n",
       "237                            53    £  \n",
       "557                            66    £  \n",
       "...                           ...  ...  \n",
       "9424                           62    £  \n",
       "9487                           75    £  \n",
       "9603                          205    £  \n",
       "9604                          203    £  \n",
       "9688                           82    £  \n",
       "\n",
       "[298 rows x 11 columns]"
      ]
     },
     "execution_count": 12,
     "metadata": {},
     "output_type": "execute_result"
    }
   ],
   "source": [
    "df.query(\"Unit == '£'\")"
   ]
  },
  {
   "cell_type": "code",
   "execution_count": 13,
   "id": "30c1ea39",
   "metadata": {},
   "outputs": [],
   "source": [
    "df['Price'] = df['Price'].astype(int)"
   ]
  },
  {
   "cell_type": "code",
   "execution_count": 14,
   "id": "02231f64",
   "metadata": {},
   "outputs": [],
   "source": [
    "chf_df = df.query(\"Unit == 'CHF'\").copy()\n",
    "dkk_df = df.query(\"Unit == 'DKK'\").copy()\n",
    "liv_df = df.query(\"Unit == '£'\").copy()"
   ]
  },
  {
   "cell_type": "code",
   "execution_count": 15,
   "id": "5537782d",
   "metadata": {},
   "outputs": [],
   "source": [
    "chf_df['Price'] = round(chf_df['Price'] * 1.03).astype(int)"
   ]
  },
  {
   "cell_type": "code",
   "execution_count": 16,
   "id": "ea0e8f46",
   "metadata": {},
   "outputs": [],
   "source": [
    "dkk_df['Price'] = round(dkk_df['Price'] * 0.13).astype(int)"
   ]
  },
  {
   "cell_type": "code",
   "execution_count": 17,
   "id": "b5d16c21",
   "metadata": {},
   "outputs": [],
   "source": [
    "liv_df['Price'] = round(liv_df['Price'] * 1.19).astype(int)"
   ]
  },
  {
   "cell_type": "code",
   "execution_count": 18,
   "id": "ef05444d",
   "metadata": {},
   "outputs": [],
   "source": [
    "df = df.drop(index = chf_df.index)"
   ]
  },
  {
   "cell_type": "code",
   "execution_count": 19,
   "id": "0472b1aa",
   "metadata": {},
   "outputs": [],
   "source": [
    "df = df.drop(index = dkk_df.index)"
   ]
  },
  {
   "cell_type": "code",
   "execution_count": 20,
   "id": "1d46331e",
   "metadata": {},
   "outputs": [],
   "source": [
    "df = df.drop(index = liv_df.index)"
   ]
  },
  {
   "cell_type": "code",
   "execution_count": 21,
   "id": "26b2ef0f",
   "metadata": {},
   "outputs": [],
   "source": [
    "df = pd.concat([chf_df, dkk_df, liv_df], ignore_index = True)"
   ]
  },
  {
   "cell_type": "code",
   "execution_count": 22,
   "id": "6eec9080",
   "metadata": {},
   "outputs": [],
   "source": [
    "df.Price.dropna(inplace=True)"
   ]
  },
  {
   "cell_type": "code",
   "execution_count": 23,
   "id": "fc7d21f0",
   "metadata": {},
   "outputs": [
    {
     "name": "stdout",
     "output_type": "stream",
     "text": [
      "<class 'pandas.core.series.Series'>\n",
      "RangeIndex: 1458 entries, 0 to 1457\n",
      "Series name: Price\n",
      "Non-Null Count  Dtype\n",
      "--------------  -----\n",
      "1458 non-null   int32\n",
      "dtypes: int32(1)\n",
      "memory usage: 5.8 KB\n"
     ]
    }
   ],
   "source": [
    "df.Unit = 'EUR'\n",
    "df.Price = df.Price.astype(int)\n",
    "df.Price.info()"
   ]
  },
  {
   "cell_type": "code",
   "execution_count": 24,
   "id": "1f991c09",
   "metadata": {},
   "outputs": [],
   "source": [
    "df['Year Built'] = round(df['Year Built']).astype(\"Int64\")"
   ]
  },
  {
   "cell_type": "code",
   "execution_count": 25,
   "id": "9a8cf6eb",
   "metadata": {},
   "outputs": [
    {
     "data": {
      "text/plain": [
       "array([nan, 'Aluminium', 'GRP', 'Thermoplastic', 'Plastic', 'Wood',\n",
       "       'Steel', 'Hypalon', 'Carbon Fiber', 'PVC'], dtype=object)"
      ]
     },
     "execution_count": 25,
     "metadata": {},
     "output_type": "execute_result"
    }
   ],
   "source": [
    "df.Material.unique()"
   ]
  },
  {
   "cell_type": "code",
   "execution_count": 26,
   "id": "ec86af42",
   "metadata": {},
   "outputs": [
    {
     "data": {
      "text/plain": [
       "'GRP'"
      ]
     },
     "execution_count": 26,
     "metadata": {},
     "output_type": "execute_result"
    }
   ],
   "source": [
    "mode = df.Material.mode()\n",
    "mode[0]"
   ]
  },
  {
   "cell_type": "code",
   "execution_count": 27,
   "id": "44524cef",
   "metadata": {},
   "outputs": [],
   "source": [
    "df['Material'].fillna(mode[0], inplace = True)\n",
    "df.Material.replace(to_replace=['nan'], value=mode, inplace=True)"
   ]
  },
  {
   "cell_type": "code",
   "execution_count": 28,
   "id": "f0ee9267",
   "metadata": {
    "scrolled": false
   },
   "outputs": [
    {
     "data": {
      "text/plain": [
       "0"
      ]
     },
     "execution_count": 28,
     "metadata": {},
     "output_type": "execute_result"
    }
   ],
   "source": [
    "df.Material.isnull().sum()"
   ]
  },
  {
   "cell_type": "code",
   "execution_count": 29,
   "id": "b6e66f04",
   "metadata": {},
   "outputs": [
    {
     "data": {
      "text/plain": [
       "array(['GRP', 'Aluminium', 'Thermoplastic', 'Plastic', 'Wood', 'Steel',\n",
       "       'Hypalon', 'Carbon Fiber', 'PVC'], dtype=object)"
      ]
     },
     "execution_count": 29,
     "metadata": {},
     "output_type": "execute_result"
    }
   ],
   "source": [
    "df.Material.unique()"
   ]
  },
  {
   "cell_type": "code",
   "execution_count": 30,
   "id": "4350b23e",
   "metadata": {},
   "outputs": [
    {
     "data": {
      "text/plain": [
       "array(['new boat from stock', 'Used boat,Unleaded', 'Used boat,Electric',\n",
       "       'new boat from stock,Unleaded', 'Used boat', 'new boat on order',\n",
       "       'new boat on order,Unleaded', 'Display Model,Unleaded',\n",
       "       'Used boat,Diesel', 'Display Model',\n",
       "       'new boat from stock,Electric', nan, 'new boat from stock,Diesel',\n",
       "       'Display Model,Diesel', 'new boat on order,Diesel',\n",
       "       'Display Model,Electric', 'Diesel', 'Unleaded'], dtype=object)"
      ]
     },
     "execution_count": 30,
     "metadata": {},
     "output_type": "execute_result"
    }
   ],
   "source": [
    "df.Type.unique()"
   ]
  },
  {
   "cell_type": "code",
   "execution_count": 31,
   "id": "cfd91fe2",
   "metadata": {},
   "outputs": [
    {
     "data": {
      "text/plain": [
       "4"
      ]
     },
     "execution_count": 31,
     "metadata": {},
     "output_type": "execute_result"
    }
   ],
   "source": [
    "df.Type.isnull().sum()"
   ]
  },
  {
   "cell_type": "code",
   "execution_count": 32,
   "id": "55ecefdc",
   "metadata": {},
   "outputs": [],
   "source": [
    "mode = df.Type.mode()\n",
    "mode = df.Type.fillna(mode[0], inplace= True)\n",
    "#df.Type = df.Type.astype(str)\n",
    "#df.Type.replace(to_replace=['nan'], value=mode, inplace=True)"
   ]
  },
  {
   "cell_type": "code",
   "execution_count": 33,
   "id": "d38785b5",
   "metadata": {},
   "outputs": [
    {
     "data": {
      "text/plain": [
       "0"
      ]
     },
     "execution_count": 33,
     "metadata": {},
     "output_type": "execute_result"
    }
   ],
   "source": [
    "df.Type.isnull().sum()"
   ]
  },
  {
   "cell_type": "code",
   "execution_count": 34,
   "id": "9d6dba2b",
   "metadata": {},
   "outputs": [],
   "source": [
    "df['Price'] = df['Price'].astype('Int64')"
   ]
  },
  {
   "cell_type": "code",
   "execution_count": 35,
   "id": "808a147e",
   "metadata": {},
   "outputs": [
    {
     "data": {
      "text/plain": [
       "Price                            0\n",
       "Boat Type                        0\n",
       "Manufacturer                    70\n",
       "Type                             0\n",
       "Year Built                     127\n",
       "Length                           3\n",
       "Width                            7\n",
       "Material                         0\n",
       "Location                         3\n",
       "Number of views last 7 days      0\n",
       "Unit                             0\n",
       "dtype: int64"
      ]
     },
     "execution_count": 35,
     "metadata": {},
     "output_type": "execute_result"
    }
   ],
   "source": [
    "df.isnull().sum()"
   ]
  },
  {
   "cell_type": "code",
   "execution_count": 36,
   "id": "1e0f9e5b",
   "metadata": {
    "scrolled": true
   },
   "outputs": [
    {
     "data": {
      "text/plain": [
       "array(['new boat from stock', 'Used boat,Unleaded', 'Used boat,Electric',\n",
       "       'new boat from stock,Unleaded', 'Used boat', 'new boat on order',\n",
       "       'new boat on order,Unleaded', 'Display Model,Unleaded',\n",
       "       'Used boat,Diesel', 'Display Model',\n",
       "       'new boat from stock,Electric', 'new boat from stock,Diesel',\n",
       "       'Display Model,Diesel', 'new boat on order,Diesel',\n",
       "       'Display Model,Electric', 'Diesel', 'Unleaded'], dtype=object)"
      ]
     },
     "execution_count": 36,
     "metadata": {},
     "output_type": "execute_result"
    }
   ],
   "source": [
    "df.reset_index(drop = True)\n",
    "\n",
    "df.Type.unique()"
   ]
  },
  {
   "cell_type": "markdown",
   "id": "c1e2d6fa",
   "metadata": {},
   "source": [
    "# Visualization"
   ]
  },
  {
   "cell_type": "markdown",
   "id": "8dd330cc",
   "metadata": {},
   "source": [
    "### Is it the most expensive boats that get the most views ?"
   ]
  },
  {
   "cell_type": "code",
   "execution_count": 37,
   "id": "90f7ee13",
   "metadata": {},
   "outputs": [
    {
     "data": {
      "text/plain": [
       "3263"
      ]
     },
     "execution_count": 37,
     "metadata": {},
     "output_type": "execute_result"
    }
   ],
   "source": [
    "df['Number of views last 7 days'].max()"
   ]
  },
  {
   "cell_type": "code",
   "execution_count": 38,
   "id": "361b31db",
   "metadata": {},
   "outputs": [],
   "source": [
    "qt75 = df.Price.quantile(.75)\n",
    "high_prc = df[df['Price'] > qt75]\n",
    "low_prc = df[df['Price'] < qt75]"
   ]
  },
  {
   "cell_type": "code",
   "execution_count": 39,
   "id": "9344d0c4",
   "metadata": {},
   "outputs": [],
   "source": [
    "high_view= df['Number of views last 7 days'].quantile(.75)\n",
    "high_view_df = df[df['Number of views last 7 days'] > high_view].copy()"
   ]
  },
  {
   "cell_type": "code",
   "execution_count": 40,
   "id": "4c6dbbd1",
   "metadata": {},
   "outputs": [],
   "source": [
    "high_low = pd.DataFrame({'Expensive Boats' : high_prc['Number of views last 7 days'], 'Cheap Boats' : low_prc['Number of views last 7 days']})"
   ]
  },
  {
   "cell_type": "code",
   "execution_count": 41,
   "id": "2b79f525",
   "metadata": {},
   "outputs": [],
   "source": [
    "high_low = high_low.sum().astype(int)"
   ]
  },
  {
   "cell_type": "code",
   "execution_count": 42,
   "id": "6fb463bf",
   "metadata": {},
   "outputs": [
    {
     "data": {
      "text/plain": [
       "Expensive Boats     94513\n",
       "Cheap Boats        304198\n",
       "dtype: int32"
      ]
     },
     "execution_count": 42,
     "metadata": {},
     "output_type": "execute_result"
    }
   ],
   "source": [
    "high_low"
   ]
  },
  {
   "cell_type": "code",
   "execution_count": 43,
   "id": "0608c038",
   "metadata": {},
   "outputs": [
    {
     "data": {
      "text/plain": [
       "(array([0, 1]), [Text(0, 0, 'Expensive Boats'), Text(1, 0, 'Cheap Boats')])"
      ]
     },
     "execution_count": 43,
     "metadata": {},
     "output_type": "execute_result"
    },
    {
     "data": {
      "image/png": "[encoded data removed]",
      "text/plain": [
       "<Figure size 432x288 with 1 Axes>"
      ]
     },
     "metadata": {
      "needs_background": "light"
     },
     "output_type": "display_data"
    }
   ],
   "source": [
    "high_low.plot(kind='bar')\n",
    "plt.ylabel('Number of views last 7 days')\n",
    "plt.xticks(rotation=0)\n"
   ]
  },
  {
   "cell_type": "code",
   "execution_count": 44,
   "id": "204b5499",
   "metadata": {},
   "outputs": [
    {
     "data": {
      "text/plain": [
       "94513"
      ]
     },
     "execution_count": 44,
     "metadata": {},
     "output_type": "execute_result"
    }
   ],
   "source": [
    "high_prc['Number of views last 7 days'].sum()"
   ]
  },
  {
   "cell_type": "code",
   "execution_count": 45,
   "id": "2a753a90",
   "metadata": {},
   "outputs": [
    {
     "data": {
      "text/plain": [
       "304198"
      ]
     },
     "execution_count": 45,
     "metadata": {},
     "output_type": "execute_result"
    }
   ],
   "source": [
    "low_prc['Number of views last 7 days'].sum()"
   ]
  },
  {
   "cell_type": "code",
   "execution_count": 46,
   "id": "eb5f47f8",
   "metadata": {},
   "outputs": [
    {
     "data": {
      "text/plain": [
       "3           Aluminium\n",
       "7           Aluminium\n",
       "9           Aluminium\n",
       "14                GRP\n",
       "15      Thermoplastic\n",
       "            ...      \n",
       "1154              GRP\n",
       "1251              GRP\n",
       "1260              GRP\n",
       "1263              GRP\n",
       "1264              GRP\n",
       "Name: Material, Length: 365, dtype: object"
      ]
     },
     "execution_count": 46,
     "metadata": {},
     "output_type": "execute_result"
    }
   ],
   "source": [
    "high_view_df.Material.unique()\n",
    "high_view_df.Material"
   ]
  },
  {
   "cell_type": "code",
   "execution_count": 47,
   "id": "426c04a1",
   "metadata": {},
   "outputs": [
    {
     "data": {
      "text/plain": [
       "<AxesSubplot:>"
      ]
     },
     "execution_count": 47,
     "metadata": {},
     "output_type": "execute_result"
    },
    {
     "data": {
      "image/png": "[encoded data removed]",
      "text/plain": [
       "<Figure size 432x288 with 1 Axes>"
      ]
     },
     "metadata": {
      "needs_background": "light"
     },
     "output_type": "display_data"
    }
   ],
   "source": [
    "high_view_df.Price.hist()"
   ]
  },
  {
   "cell_type": "code",
   "execution_count": 48,
   "id": "2d87da57",
   "metadata": {},
   "outputs": [
    {
     "data": {
      "image/png": "[encoded data removed]",
      "text/plain": [
       "<Figure size 432x432 with 3 Axes>"
      ]
     },
     "metadata": {
      "needs_background": "light"
     },
     "output_type": "display_data"
    }
   ],
   "source": [
    "ax = sns.jointplot(y='Number of views last 7 days', x='Price', data=df)\n",
    "ax.set_axis_labels('Price in EUR', 'Views', fontsize=12)\n",
    "plt.show()"
   ]
  },
  {
   "cell_type": "markdown",
   "id": "a9b19bed",
   "metadata": {},
   "source": [
    "**Boats with lower price tends to have more views than expensive ones**"
   ]
  },
  {
   "cell_type": "markdown",
   "id": "885c4178",
   "metadata": {},
   "source": [
    "### Are there common features among the most viewed boats ?"
   ]
  },
  {
   "cell_type": "code",
   "execution_count": 49,
   "id": "f3647990",
   "metadata": {},
   "outputs": [
    {
     "name": "stdout",
     "output_type": "stream",
     "text": [
      "<class 'pandas.core.frame.DataFrame'>\n",
      "Int64Index: 365 entries, 3 to 1264\n",
      "Data columns (total 11 columns):\n",
      " #   Column                       Non-Null Count  Dtype  \n",
      "---  ------                       --------------  -----  \n",
      " 0   Price                        365 non-null    Int64  \n",
      " 1   Boat Type                    365 non-null    object \n",
      " 2   Manufacturer                 353 non-null    object \n",
      " 3   Type                         365 non-null    object \n",
      " 4   Year Built                   349 non-null    Int64  \n",
      " 5   Length                       363 non-null    float64\n",
      " 6   Width                        363 non-null    float64\n",
      " 7   Material                     365 non-null    object \n",
      " 8   Location                     365 non-null    object \n",
      " 9   Number of views last 7 days  365 non-null    int64  \n",
      " 10  Unit                         365 non-null    object \n",
      "dtypes: Int64(2), float64(2), int64(1), object(6)\n",
      "memory usage: 34.9+ KB\n"
     ]
    }
   ],
   "source": [
    "high_view_df.info()"
   ]
  },
  {
   "cell_type": "code",
   "execution_count": 50,
   "id": "610d4319",
   "metadata": {},
   "outputs": [],
   "source": [
    "import itertools\n",
    "def concat(ch):\n",
    "    return list(itertools.chain.from_iterable(ch.str.split(',')))"
   ]
  },
  {
   "cell_type": "code",
   "execution_count": 51,
   "id": "f947027b",
   "metadata": {},
   "outputs": [],
   "source": [
    "high_view_df['Type'] = high_view_df['Type'].astype(str)\n",
    "lengths1 = high_view_df['Type'].str.split(',').map(len)\n",
    "# Creating a new dataframe with the new splitted rows\n",
    "high_view_df = pd.DataFrame({'Price' : np.repeat(high_view_df['Price'], lengths1),\n",
    "                                                   'Type' : concat(high_view_df['Type']),\n",
    "                                                   'Number of views last 7 days' : np.repeat(high_view_df['Number of views last 7 days'], lengths1),\n",
    "                         'Boat Type': np.repeat(high_view_df['Boat Type'], lengths1),\n",
    "                         'Material': np.repeat(high_view_df['Material'], lengths1),\n",
    "                         'Location' : np.repeat(high_view_df['Location'], lengths1)})"
   ]
  },
  {
   "cell_type": "code",
   "execution_count": 52,
   "id": "2b596349",
   "metadata": {},
   "outputs": [],
   "source": [
    "lengths1 = high_view_df['Boat Type'].str.split(',').map(len)\n",
    "# Creating a new dataframe with the new splitted rows\n",
    "high_view_df = pd.DataFrame({'Price' : np.repeat(high_view_df['Price'], lengths1),\n",
    "                                                   'Type' : np.repeat(high_view_df['Type'], lengths1),\n",
    "                                                   'Number of views last 7 days' : np.repeat(high_view_df['Number of views last 7 days'], lengths1),\n",
    "                         'Boat Type': concat(high_view_df['Boat Type']),\n",
    "                         'Material': np.repeat(high_view_df['Material'], lengths1),\n",
    "                         'Location' : np.repeat(high_view_df['Location'], lengths1)})"
   ]
  },
  {
   "cell_type": "code",
   "execution_count": 53,
   "id": "d395a2a0",
   "metadata": {
    "scrolled": true
   },
   "outputs": [
    {
     "data": {
      "text/plain": [
       "array(['Used boat', 'Unleaded', 'new boat from stock',\n",
       "       'new boat on order', 'Display Model', 'Diesel', 'Electric'],\n",
       "      dtype=object)"
      ]
     },
     "execution_count": 53,
     "metadata": {},
     "output_type": "execute_result"
    }
   ],
   "source": [
    "high_view_df.Type.unique()"
   ]
  },
  {
   "cell_type": "code",
   "execution_count": 54,
   "id": "2c94e3c5",
   "metadata": {},
   "outputs": [
    {
     "data": {
      "text/plain": [
       "Text(0.5, 1.0, 'Views Per Type')"
      ]
     },
     "execution_count": 54,
     "metadata": {},
     "output_type": "execute_result"
    },
    {
     "data": {
      "image/png": "[encoded data removed]",
      "text/plain": [
       "<Figure size 432x288 with 1 Axes>"
      ]
     },
     "metadata": {
      "needs_background": "light"
     },
     "output_type": "display_data"
    }
   ],
   "source": [
    "fig, ax = plt.subplots()\n",
    "chart = sns.barplot(ax = ax, y='Number of views last 7 days', x='Type', data=high_view_df)\n",
    "ax.set_xticklabels(['Used','Unleaded','New stock','New order','Display','Diesel','Electric'])\n",
    "xtix = ax.get_xticks()\n",
    "plt.xticks(rotation=45)\n",
    "plt.title('Views Per Type')"
   ]
  },
  {
   "cell_type": "code",
   "execution_count": 55,
   "id": "3563aec1",
   "metadata": {},
   "outputs": [
    {
     "data": {
      "text/plain": [
       "array(['Catamaran', 'Fishing Boat', 'Sport Boat', 'Cabin Boat',\n",
       "       'Bowrider', 'Pilothouse', 'Working Boat', 'Pontoon Boat',\n",
       "       'Water ski', 'Runabout', 'Hardtop', 'Offshore Boat', 'Classic',\n",
       "       'Wakeboard/Wakesurf', 'Motor Yacht', 'House Boat', 'Flybridge',\n",
       "       'Trawler', 'Deck Boat', 'Center console boat', 'Passenger boat'],\n",
       "      dtype=object)"
      ]
     },
     "execution_count": 55,
     "metadata": {},
     "output_type": "execute_result"
    }
   ],
   "source": [
    "high_view_df['Boat Type'].unique()"
   ]
  },
  {
   "cell_type": "code",
   "execution_count": 56,
   "id": "bc3ba72e",
   "metadata": {},
   "outputs": [
    {
     "data": {
      "image/png": "[encoded data removed]",
      "text/plain": [
       "<Figure size 432x288 with 1 Axes>"
      ]
     },
     "metadata": {
      "needs_background": "light"
     },
     "output_type": "display_data"
    },
    {
     "data": {
      "text/plain": [
       "<Figure size 864x432 with 0 Axes>"
      ]
     },
     "metadata": {},
     "output_type": "display_data"
    }
   ],
   "source": [
    "fig, ax = plt.subplots()\n",
    "chart = sns.barplot(ax = ax, y='Number of views last 7 days', x='Boat Type', data=high_view_df)\n",
    "plt.xticks(rotation=45)\n",
    "plt.figure(figsize=(12, 6))\n",
    "chart.set_xticklabels(chart.get_xticklabels(), rotation=45, horizontalalignment='right')\n",
    "plt.show()"
   ]
  },
  {
   "cell_type": "code",
   "execution_count": 57,
   "id": "d9c3f98a",
   "metadata": {},
   "outputs": [],
   "source": [
    "top_manu = df.sort_values('Number of views last 7 days', ascending=False)[['Manufacturer','Number of views last 7 days']].head(10)"
   ]
  },
  {
   "cell_type": "code",
   "execution_count": 58,
   "id": "e5eaf6e7",
   "metadata": {},
   "outputs": [
    {
     "data": {
      "image/png": "[encoded data removed]",
      "text/plain": [
       "<Figure size 432x288 with 1 Axes>"
      ]
     },
     "metadata": {
      "needs_background": "light"
     },
     "output_type": "display_data"
    },
    {
     "data": {
      "text/plain": [
       "<Figure size 864x432 with 0 Axes>"
      ]
     },
     "metadata": {},
     "output_type": "display_data"
    }
   ],
   "source": [
    "fig, ax = plt.subplots()\n",
    "chart = sns.barplot(y='Number of views last 7 days', x='Manufacturer', data=top_manu)\n",
    "plt.xticks(rotation=45)\n",
    "plt.figure(figsize=(12, 6))\n",
    "chart.set_xticklabels(chart.get_xticklabels(), rotation=45, horizontalalignment='right')\n",
    "plt.show()"
   ]
  },
  {
   "cell_type": "code",
   "execution_count": 60,
   "id": "34d2e100",
   "metadata": {
    "scrolled": true
   },
   "outputs": [
    {
     "data": {
      "text/plain": [
       "[Text(0, 0, 'Switzerland'),\n",
       " Text(1, 0, 'Lake'),\n",
       " Text(2, 0, 'France'),\n",
       " Text(3, 0, 'Faoug'),\n",
       " Text(4, 0, 'Avenches'),\n",
       " Text(5, 0, 'ZÃ¼richse,'),\n",
       " Text(6, 0, 'Tenero,'),\n",
       " Text(7, 0, 'VierwaldstÃ¤ttersee'),\n",
       " Text(8, 0, 'Lago'),\n",
       " Text(9, 0, 'Thalwil'),\n",
       " Text(10, 0, 'Welschenrohr'),\n",
       " Text(11, 0, 'Thun'),\n",
       " Text(12, 0, 'Denmark'),\n",
       " Text(13, 0, 'PT'),\n",
       " Text(14, 0, 'Juelsminde'),\n",
       " Text(15, 0, 'Italy'),\n",
       " Text(16, 0, 'United'),\n",
       " Text(17, 0, 'Spain')]"
      ]
     },
     "execution_count": 60,
     "metadata": {},
     "output_type": "execute_result"
    },
    {
     "data": {
      "image/png": "[encoded data removed]",
      "text/plain": [
       "<Figure size 432x288 with 1 Axes>"
      ]
     },
     "metadata": {
      "needs_background": "light"
     },
     "output_type": "display_data"
    },
    {
     "data": {
      "text/plain": [
       "<Figure size 864x432 with 0 Axes>"
      ]
     },
     "metadata": {},
     "output_type": "display_data"
    }
   ],
   "source": [
    "fig, ax = plt.subplots()\n",
    "chart = sns.barplot(y='Number of views last 7 days', x='Location', data=high_view_df)\n",
    "chart.set(title='Views per country')\n",
    "plt.xticks(rotation=45)\n",
    "plt.figure(figsize=(12, 6))\n",
    "chart.set_xticklabels(chart.get_xticklabels(), rotation=45, horizontalalignment='right')"
   ]
  },
  {
   "cell_type": "code",
   "execution_count": null,
   "id": "382aad73",
   "metadata": {},
   "outputs": [],
   "source": [
    "pie_df = pd.DataFrame(high_view_df.groupby('Material')['Number of views last 7 days'].sum())"
   ]
  },
  {
   "cell_type": "code",
   "execution_count": null,
   "id": "1971e66a",
   "metadata": {},
   "outputs": [],
   "source": [
    "pie_df"
   ]
  },
  {
   "cell_type": "code",
   "execution_count": null,
   "id": "88fa91f5",
   "metadata": {},
   "outputs": [],
   "source": [
    "plt.rcParams['text.color'] = 'white'\n",
    "plt.rcParams['font.size'] = 10\n",
    "plt.pie(pie_df['Number of views last 7 days'], labels=pie_df.index,explode=(0, 0.7, 0, 0, 0.5,0.5,0) ,shadow=True)\n",
    "plt.show()"
   ]
  },
  {
   "cell_type": "code",
   "execution_count": null,
   "id": "8ba20c2a",
   "metadata": {},
   "outputs": [],
   "source": []
  }
 ],
 "metadata": {
  "kernelspec": {
   "display_name": "Python 3 (ipykernel)",
   "language": "python",
   "name": "python3"
  },
  "language_info": {
   "codemirror_mode": {
    "name": "ipython",
    "version": 3
   },
   "file_extension": ".py",
   "mimetype": "text/x-python",
   "name": "python",
   "nbconvert_exporter": "python",
   "pygments_lexer": "ipython3",
   "version": "3.9.12"
  }
 },
 "nbformat": 4,
 "nbformat_minor": 5
}
